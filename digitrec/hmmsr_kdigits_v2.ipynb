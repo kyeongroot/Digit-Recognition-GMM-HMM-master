{
 "cells": [
  {
   "cell_type": "markdown",
   "id": "2df169d8-4c37-4450-97b5-6cc781a2ae4a",
   "metadata": {},
   "source": [
    "# DEEE725 Speech Signal Processing Lab\n",
    "### 2023 Spring, Kyungpook National University \n",
    "### Instructor: Gil-Jin Jang"
   ]
  },
  {
   "cell_type": "markdown",
   "id": "09645527-0887-405f-9a9a-05da9cb45270",
   "metadata": {},
   "source": [
    "## Lab 01 Korean digit recognition using python-hmmlearn\n",
    "version 2, 2023/03/24\n",
    "source: [jayaram1125's github repository](https://github.com/jayaram1125/Single-Word-Speech-Recognition-using-GMM-HMM-)\n",
    "\n",
    "__update description:__\n",
    "\n",
    "1. assigns sound files 8 and 9 for test out of 0...9, the rest (0...7) are for training\n",
    "    no random selection for reproducibility\n",
    "2. folder structure change\n",
    "\n",
    "> segmented/${username}/${dnum}/kdigits${trial}-${dnum}.wav\n",
    "> > for example, for user \"gjang\", digit 2, recording trial 0 (1st)\n",
    "> > \"segmented/gjang/2/kdigits0-2.wav\""
   ]
  },
  {
   "cell_type": "code",
   "execution_count": 1,
   "id": "d2fbc717-5dc6-43a9-b7c3-9f8f2b06506f",
   "metadata": {
    "tags": []
   },
   "outputs": [],
   "source": [
    "# import necessary packages\n",
    "import numpy as np\n",
    "import matplotlib.pyplot as plt\n",
    "#from scikits.talkbox.features import mfcc\n",
    "#librosa.feature.mfcc(*, y=None, sr=22050, S=None, n_mfcc=20, dct_type=2, norm='ortho', lifter=0, **kwargs)[source]\n",
    "from librosa.feature import mfcc\n",
    "from scipy.io import wavfile\n",
    "from hmmlearn import hmm\n",
    "import numpy as np\n",
    "import os\n",
    "import warnings\n",
    "import scipy.stats as sp\n",
    "from time import time\n",
    "\n",
    "warnings.filterwarnings(\"ignore\")"
   ]
  },
  {
   "cell_type": "markdown",
   "id": "371acf2d-ddbd-411e-8134-1a44abcb4593",
   "metadata": {},
   "source": [
    "__hyperparameters__ - CHANGE THEM TO IMPROVE PERFORMANCE\n",
    "1. number of MFCC (feature dimension), try `num_mfcc` 6, 10, 13\n",
    "\n",
    "2. Parameters needed to train GMMHMM: number of HMM states, number of Gaussian mixtures, diagonal or full covariance matrix, etc."
   ]
  },
  {
   "cell_type": "code",
   "execution_count": 2,
   "id": "5764004d-1445-4762-9e67-a1cb8744faa6",
   "metadata": {
    "tags": []
   },
   "outputs": [],
   "source": [
    "# 1. number of MFCC (feature dimension)\n",
    "num_mfcc = 6\n",
    "#num_mfcc = 10\n",
    "#num_mfcc = 13\n",
    "# 2. Parameters needed to train GMMHMM\n",
    "m_num_of_HMMStates = 3  # number of states\n",
    "m_num_of_mixtures = 2  # number of mixtures for each hidden state\n",
    "m_covarianceType = 'diag'  # covariance type\n",
    "m_n_iter = 10  # number of iterations\n",
    "m_bakisLevel = 2"
   ]
  },
  {
   "cell_type": "code",
   "execution_count": 3,
   "id": "e0a7b0e8-fd5c-4e48-8a1b-ef1b71ae8115",
   "metadata": {
    "tags": []
   },
   "outputs": [],
   "source": [
    "# extract MFCC features\n",
    "def extmfcc(file):\n",
    "    samplerate, d = wavfile.read(file)\n",
    "    #features.append(mfcc(d, nwin=int(samplerate * 0.03), fs=samplerate, nceps= 6)[0])\n",
    "    x = np.float32(d)\n",
    "    hop=samplerate//100\n",
    "    mc = mfcc(y=x, sr=samplerate, n_mfcc=num_mfcc, hop_length=hop, win_length=hop*2)\n",
    "    return np.transpose(mc, (1,0))"
   ]
  },
  {
   "cell_type": "markdown",
   "id": "f11bc3d0-d556-40d1-b2af-46076a7431b7",
   "metadata": {
    "tags": []
   },
   "source": [
    "__load data files__\n",
    "\n",
    "1. find files: \n",
    "    for user `\"gjang\"`, digit 2, recording trial 0 (1st)\n",
    "    `\"segmented/gjang/2/kdigits0-2.wav\"`\n",
    "2. extract MFCC features for training and testing\n",
    "    for each digit, indexes 4 and 9 for test, and the rest for training"
   ]
  },
  {
   "cell_type": "code",
   "execution_count": 4,
   "id": "5369c97e-f05f-4853-9cf4-5a6a7235773f",
   "metadata": {
    "tags": []
   },
   "outputs": [
    {
     "name": "stdout",
     "output_type": "stream",
     "text": [
      "segmented/kyeong/0/kdigits0-0.wav 0 (110, 6) training\n",
      "segmented/kyeong/0/kdigits1-0.wav 0 (94, 6) training\n",
      "segmented/kyeong/0/kdigits2-0.wav 0 (65, 6) training\n",
      "segmented/kyeong/0/kdigits3-0.wav 0 (108, 6) training\n",
      "segmented/kyeong/0/kdigits4-0.wav 0 (103, 6) testing\n",
      "segmented/kyeong/0/kdigits5-0.wav 0 (139, 6) training\n",
      "segmented/kyeong/0/kdigits6-0.wav 0 (98, 6) training\n",
      "segmented/kyeong/0/kdigits7-0.wav 0 (65, 6) training\n",
      "segmented/kyeong/0/kdigits8-0.wav 0 (92, 6) training\n",
      "segmented/kyeong/0/kdigits9-0.wav 0 (90, 6) testing\n",
      "segmented/kyeong/1/kdigits0-1.wav 1 (103, 6) training\n",
      "segmented/kyeong/1/kdigits1-1.wav 1 (111, 6) training\n",
      "segmented/kyeong/1/kdigits2-1.wav 1 (86, 6) training\n",
      "segmented/kyeong/1/kdigits3-1.wav 1 (95, 6) training\n",
      "segmented/kyeong/1/kdigits4-1.wav 1 (109, 6) testing\n",
      "segmented/kyeong/1/kdigits5-1.wav 1 (85, 6) training\n",
      "segmented/kyeong/1/kdigits6-1.wav 1 (96, 6) training\n",
      "segmented/kyeong/1/kdigits7-1.wav 1 (105, 6) training\n",
      "segmented/kyeong/1/kdigits8-1.wav 1 (115, 6) training\n",
      "segmented/kyeong/1/kdigits9-1.wav 1 (94, 6) testing\n",
      "...\n",
      "\n",
      "Words spoken: ['0', '1', '2', '3', '4', '5', '6', '7', '8', '9']\n"
     ]
    }
   ],
   "source": [
    "#fpaths = []\n",
    "#labels = []\n",
    "spoken = []\n",
    "m_trainingsetfeatures = []\n",
    "m_trainingsetlabels = []\n",
    "m_testingsetfeatures = []\n",
    "m_testingsetlabels = []\n",
    "n_folds = 5   # 0...3 for training, 4 for testing\n",
    "\n",
    "apath = 'segmented'\n",
    "count = 0\n",
    "for username in os.listdir(apath):\n",
    "    apath2 = apath + '/' + username    # example: segmented/gjang\n",
    "    for ii in range(10):   #dnum in os.listdir(apath2):\n",
    "        dnum = str(ii)\n",
    "        apath3 = apath2 + '/' + dnum     # example: segmented/gjang/2\n",
    "        if dnum not in spoken:\n",
    "            spoken.append(dnum)\n",
    "        for trial in range(10):\n",
    "            file = apath3 + '/' + \"kdigits{}-{}.wav\".format(trial,dnum)      # segmented/gjang/2/kdigits0-2.wav\n",
    "            mc = extmfcc(file)\n",
    "\n",
    "            # display file names for the first 20 files only\n",
    "            count += 1\n",
    "            if count <= 20:\n",
    "                print(file, dnum, end=' '); print(mc.shape, end=' ')\n",
    "            elif count == 21:\n",
    "                print('...'); print('')\n",
    "\n",
    "            # 0...3 for training, 4 for testing\n",
    "            if trial % n_folds == (n_folds-1):\n",
    "                if count <= 20: print('testing')\n",
    "                m_testingsetfeatures.append(mc)\n",
    "                m_testingsetlabels.append(dnum)\n",
    "            else:\n",
    "                if count <= 20: print('training')\n",
    "                m_trainingsetfeatures.append(mc)\n",
    "                m_trainingsetlabels.append(dnum)\n",
    "\n",
    "\n",
    "print('Words spoken:', spoken)\n",
    "#print(\"number of labels and features = %d, %d\" % ( len(labels), len(features) ))\n",
    "#print(\"feature shape = \", end='')\n",
    "#print(features[0].shape)"
   ]
  },
  {
   "cell_type": "code",
   "execution_count": 5,
   "id": "60e1ff46-b49e-406f-bf74-907e128edd4d",
   "metadata": {
    "tags": []
   },
   "outputs": [],
   "source": [
    "# gjang: shuffling the data (x)\n",
    "# c = list(zip(features, labels))\n",
    "# np.random.shuffle(c)\n",
    "# features,labels = zip(*c)"
   ]
  },
  {
   "cell_type": "code",
   "execution_count": 6,
   "id": "a2ace1d5-9d79-4e98-8107-afabfc1660d0",
   "metadata": {
    "tags": []
   },
   "outputs": [
    {
     "name": "stdout",
     "output_type": "stream",
     "text": [
      "[training] number of labels and features = 80, 80\n",
      "[test] number of labels and features = 20, 20\n",
      "Loading data completed\n"
     ]
    }
   ],
   "source": [
    "# test and training for 100 files\n",
    "ntest  = len(m_testingsetlabels)\n",
    "ntrain = len(m_trainingsetlabels)\n",
    "nfiles = ntest + ntrain\n",
    "\n",
    "print(\"[training] number of labels and features = %d, %d\" % \n",
    "        ( len(m_trainingsetlabels), len(m_trainingsetfeatures)) )\n",
    "print(\"[test] number of labels and features = %d, %d\" % \n",
    "        ( len(m_testingsetlabels), len(m_testingsetfeatures)) )\n",
    "\n",
    "print ('Loading data completed')"
   ]
  },
  {
   "cell_type": "code",
   "execution_count": 7,
   "id": "f8e0b11b-70b4-453a-a631-23f4df66e346",
   "metadata": {
    "tags": []
   },
   "outputs": [
    {
     "name": "stdout",
     "output_type": "stream",
     "text": [
      "StartProbPrior=\n",
      "[1. 0. 0.]\n",
      "TransMatPrior=\n",
      "[[0.5 0.5 0. ]\n",
      " [0.  0.5 0.5]\n",
      " [0.  0.  1. ]]\n"
     ]
    }
   ],
   "source": [
    "# model initialization\n",
    "gmmhmmindexdict = {}\n",
    "index = 0\n",
    "for word in spoken:\n",
    "    gmmhmmindexdict[word] = index\n",
    "    index = index +1\n",
    "\n",
    "def initByBakis(inumstates, ibakisLevel):\n",
    "    startprobPrior = np.zeros(inumstates)\n",
    "    startprobPrior[0: ibakisLevel - 1] = 1/float((ibakisLevel - 1))\n",
    "    transmatPrior = getTransmatPrior(inumstates, ibakisLevel)\n",
    "    return startprobPrior, transmatPrior\n",
    "\n",
    "def getTransmatPrior(inumstates, ibakisLevel):\n",
    "    transmatPrior = (1 / float(ibakisLevel)) * np.eye(inumstates)\n",
    "\n",
    "    for i in range(inumstates - (ibakisLevel - 1)):\n",
    "        for j in range(ibakisLevel - 1):\n",
    "            transmatPrior[i, i + j + 1] = 1. / ibakisLevel\n",
    "\n",
    "    for i in range(inumstates - ibakisLevel + 1, inumstates):\n",
    "        for j in range(inumstates - i - j):\n",
    "            transmatPrior[i, i + j] = 1. / (inumstates - i)\n",
    "\n",
    "    return transmatPrior\n",
    "\n",
    "m_startprobPrior ,m_transmatPrior = initByBakis(m_num_of_HMMStates,m_bakisLevel)\n",
    "\n",
    "print(\"StartProbPrior=\")\n",
    "print(m_startprobPrior)\n",
    "\n",
    "print(\"TransMatPrior=\")\n",
    "print(m_transmatPrior)"
   ]
  },
  {
   "cell_type": "code",
   "execution_count": 8,
   "id": "bfe7d4a7-9011-46f7-8798-8c6010b99e13",
   "metadata": {
    "tags": []
   },
   "outputs": [],
   "source": [
    "# acoustic model definition\n",
    "class SpeechModel:\n",
    "    def __init__(self,Class,label):\n",
    "        self.traindata = np.zeros((0,num_mfcc))\n",
    "        self.Class = Class\n",
    "        self.label = label\n",
    "        self.model  = hmm.GMMHMM(n_components = m_num_of_HMMStates, n_mix = m_num_of_mixtures, \\\n",
    "                transmat_prior = m_transmatPrior, startprob_prior = m_startprobPrior, \\\n",
    "                covariance_type = m_covarianceType, n_iter = m_n_iter)"
   ]
  },
  {
   "cell_type": "code",
   "execution_count": 13,
   "id": "851705fb-4910-4f3d-a8a2-e3b2ab26d1f6",
   "metadata": {
    "tags": []
   },
   "outputs": [
    {
     "name": "stdout",
     "output_type": "stream",
     "text": [
      "Training completed -- 10 GMM-HMM models are built for 10 different types of words\n",
      "time elapsed: 1.24 seconds\n",
      " \n",
      " \n"
     ]
    }
   ],
   "source": [
    "# training GMMHMM Models \n",
    "start = time()\n",
    "\n",
    "speechmodels = [None] * len(spoken)\n",
    "for key in gmmhmmindexdict:\n",
    "    speechmodels[gmmhmmindexdict[key]] = SpeechModel(gmmhmmindexdict[key],key)\n",
    "\n",
    "for i in range(0,len(m_trainingsetfeatures)):\n",
    "     for j in range(0,len(speechmodels)):\n",
    "         if int(speechmodels[j].Class) == int(gmmhmmindexdict[m_trainingsetlabels[i]]):\n",
    "            speechmodels[j].traindata = np.concatenate((speechmodels[j].traindata , m_trainingsetfeatures[i]))\n",
    "\n",
    "for speechmodel in speechmodels:\n",
    "    speechmodel.model.fit(speechmodel.traindata)\n",
    "\n",
    "print ('Training completed -- {0} GMM-HMM models are built for {0} different types of words'.format(len(spoken)))\n",
    "print('time elapsed: %.2f seconds' % ( time() - start ))\n",
    "print (\" \"); print(\" \")"
   ]
  },
  {
   "cell_type": "code",
   "execution_count": 14,
   "id": "75739c76-9c05-4210-8e96-282dadd036e7",
   "metadata": {
    "tags": []
   },
   "outputs": [
    {
     "name": "stdout",
     "output_type": "stream",
     "text": [
      "Prediction started\n",
      "[-2776.686 -3317.884 -3602.857 -3473.599 -2913.017 -3134.834 -3247.563\n",
      " -3037.485 -3025.269 -3213.046] -2776.686 :0\n",
      "[-2468.613 -3310.427 -3524.733 -3517.477 -2501.261 -2720.503 -2948.133\n",
      " -2707.105 -2516.295 -3015.   ] -2468.613 :0\n",
      "[-3827.1   -2888.397 -3516.996 -3464.328 -3941.196 -3231.939 -3135.429\n",
      " -3165.47  -4527.211 -3228.379] -2888.397 :1\n",
      "[-2949.394 -2419.106 -2751.032 -2772.712 -3013.221 -2682.672 -2607.11\n",
      " -2597.32  -3430.107 -2701.322] -2419.106 :1\n",
      "[-2629.927 -1993.2   -1773.245 -2114.257 -2240.328 -1836.859 -2217.663\n",
      " -2106.079 -2973.373 -2175.32 ] -1773.245 :2\n",
      "[-3228.156 -2534.023 -2287.772 -2577.055 -2604.364 -2343.841 -2687.209\n",
      " -2601.019 -3160.46  -2683.917] -2287.772 :2\n",
      "[-2978.595 -2317.694 -2232.548 -2297.632 -2625.267 -2184.023 -2289.815\n",
      " -2247.774 -3265.375 -2346.861] -2184.023 :5\n",
      "[-3399.032 -2776.723 -2651.836 -2649.176 -3003.267 -2705.455 -2799.086\n",
      " -2731.331 -3389.903 -2757.127] -2649.176 :3\n",
      "[-4029.833 -3749.482 -3963.076 -4326.972 -3282.529 -3392.063 -3764.329\n",
      " -3325.184 -3846.877 -3583.401] -3282.529 :4\n",
      "[-3481.779 -3761.39  -3847.482 -3922.936 -3059.089 -3167.898 -3577.423\n",
      " -3251.318 -3353.619 -3570.266] -3059.089 :4\n",
      "[-3363.453 -3200.387 -3490.487 -3596.001 -2671.313 -2470.345 -3042.305\n",
      " -2516.288 -3092.202 -2923.287] -2470.345 :5\n",
      "[-4186.105 -4335.634 -4273.927 -4229.603 -3536.432 -3426.403 -3923.705\n",
      " -3701.89  -3770.712 -4016.95 ] -3426.403 :5\n",
      "[-4190.295 -3542.794 -3902.908 -3585.185 -3725.756 -3177.162 -2997.697\n",
      " -3195.312 -4071.331 -3290.285] -2997.697 :6\n",
      "[-4183.74  -3666.903 -3682.002 -3596.312 -3611.801 -3281.009 -3086.236\n",
      " -3204.374 -3467.033 -3396.092] -3086.236 :6\n",
      "[-3627.85  -3608.334 -3882.279 -3965.622 -3099.474 -2927.059 -3387.994\n",
      " -2751.35  -3686.715 -3117.056] -2751.35 :7\n",
      "[-3912.924 -3815.561 -3943.697 -3910.799 -3525.889 -3475.238 -3700.855\n",
      " -3228.574 -3940.837 -3451.867] -3228.574 :7\n",
      "[-4238.732 -4380.769 -4740.591 -4624.098 -3483.017 -3543.943 -3688.46\n",
      " -3445.737 -3366.019 -3873.01 ] -3366.019 :8\n",
      "[-4447.937 -4735.797 -4973.135 -4922.13  -3842.182 -3852.754 -3984.753\n",
      " -3817.055 -3621.235 -4357.853] -3621.235 :8\n",
      "[-4103.448 -3258.974 -3636.522 -3667.668 -3638.015 -3253.944 -3325.781\n",
      " -2994.064 -4043.721 -2982.349] -2982.349 :9\n",
      "[-3816.29  -3429.324 -3618.664 -3651.527 -3481.76  -3340.869 -3440.572\n",
      " -3138.3   -3761.644 -3243.579] -3138.3 :7\n",
      "\n",
      "Prediction for Testing DataSet:\n",
      "Label1:0\n",
      "Label2:0\n",
      "Label3:1\n",
      "Label4:1\n",
      "Label5:2\n",
      "Label6:2\n",
      "Label7:3\n",
      "Label8:3\n",
      "Label9:4\n",
      "Label10:4\n",
      "Label11:5\n",
      "Label12:5\n",
      "Label13:6\n",
      "Label14:6\n",
      "Label15:7\n",
      "Label16:7\n",
      "Label17:8\n",
      "Label18:8\n",
      "Label19:9\n",
      "Label20:9\n",
      "\n",
      "accuracy =90.0\n",
      "\n"
     ]
    }
   ],
   "source": [
    "# testing\n",
    "print(\"Prediction started\")\n",
    "m_PredictionlabelList = []\n",
    "\n",
    "for i in range(0,len(m_testingsetfeatures)):\n",
    "    scores = []\n",
    "    for speechmodel in speechmodels:\n",
    "         scores.append(speechmodel.model.score(m_testingsetfeatures[i]))\n",
    "    id  = scores.index(max(scores))\n",
    "    m_PredictionlabelList.append(speechmodels[id].Class)\n",
    "    print(str(np.round(scores, 3)) + \" \" + str(max(np.round(scores, 3))) +\" \"+\":\"+ speechmodels[id].label)\n",
    "\n",
    "accuracy = 0.0\n",
    "count = 0\n",
    "print(\"\")\n",
    "print(\"Prediction for Testing DataSet:\")\n",
    "\n",
    "for i in range(0,len(m_testingsetlabels)):\n",
    "    print( \"Label\"+str(i+1)+\":\"+m_testingsetlabels[i])\n",
    "    if gmmhmmindexdict[m_testingsetlabels[i]] == m_PredictionlabelList[i]:\n",
    "       count = count+1\n",
    "\n",
    "accuracy = 100.0*count/float(len(m_testingsetlabels))\n",
    "\n",
    "print(\"\")\n",
    "print(\"accuracy =\"+str(accuracy))\n",
    "print(\"\")\n",
    "\n",
    "# end of testing"
   ]
  },
  {
   "cell_type": "markdown",
   "id": "2f2cc10f-ae74-4d39-bcdb-5863f58cb805",
   "metadata": {},
   "source": [
    "## End of Lab 01"
   ]
  }
 ],
 "metadata": {
  "kernelspec": {
   "display_name": "Python 3 (ipykernel)",
   "language": "python",
   "name": "python3"
  },
  "language_info": {
   "codemirror_mode": {
    "name": "ipython",
    "version": 3
   },
   "file_extension": ".py",
   "mimetype": "text/x-python",
   "name": "python",
   "nbconvert_exporter": "python",
   "pygments_lexer": "ipython3",
   "version": "3.9.13"
  }
 },
 "nbformat": 4,
 "nbformat_minor": 5
}
